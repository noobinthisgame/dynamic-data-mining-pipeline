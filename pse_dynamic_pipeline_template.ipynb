{
 "cells": [
  {
   "cell_type": "markdown",
   "metadata": {
    "collapsed": true,
    "pycharm": {
     "name": "#%% md\n"
    }
   },
   "source": [
    "# Dynamic process mining pipeline\n",
    "\n",
    "This pipeline was made to work with process data. In each step it can execute functions to transform the data.\n",
    "Those functions can be written and selected by you. After each step you can decide whether you wants to save, load or export the data.\n",
    "\n",
    "## Step 1: Initialization\n",
    "\n",
    "* Please change only the variables pickle_dir, pickle_unaltered_file, xes_dir and xes_import_file in the first cell to the desired values.\n",
    "* Other changes within the first cell can prevent the proper functioning of all features.\n",
    "* Please wait until initialization is complete, otherwise the extended functionality won't work.\n",
    "* You need to set the notebook as \"Trusted\" to enable full functionality."
   ]
  },
  {
   "cell_type": "code",
   "execution_count": null,
   "metadata": {
    "pycharm": {
     "name": "#%%\n"
    }
   },
   "outputs": [],
   "source": [
    "from src.data_handler import DataHandler\n",
    "from src.data_pipeline import DynamicPipeline\n",
    "import src.widget_handler as widget_handler\n",
    "\n",
    "# Set Pickle and XES Data directories and filenames here\n",
    "pickle_dir = \"data/pickle/\"\n",
    "pickle_unaltered_file = \"data_unaltered\"\n",
    "xes_dir = \"data/xes/\"\n",
    "xes_import_file = \"events.xes\"\n",
    "\n",
    "# Please do not change anything below this point unless you know what you're doing\n",
    "print(\"----- Initializing -----\")\n",
    "dataHandler = DataHandler()\n",
    "dataHandler.set_variables(pickle_dir, pickle_unaltered_file, xes_dir, xes_import_file)\n",
    "data = dataHandler.load_initial_data()\n",
    "pipeline = DynamicPipeline(data)\n",
    "pipeline.data = data\n",
    "dataHandler.load_functions(pipeline)\n",
    "print(\"----- Initialization complete -----\")\n",
    "widget_handler.display_data_widgets(dataHandler, pipeline, data)"
   ]
  },
  {
   "cell_type": "markdown",
   "metadata": {
    "pycharm": {
     "name": "#%% md\n"
    }
   },
   "source": [
    "## Step 2 to n: Transform data\n",
    "\n",
    "Clicking on \"Next step\" will generate two new cells. The first cell provides a field to type your own function or to select one that is already written.\n",
    "Newly written functions are saved upon execution. Functions that are no longer needed can be deleted. \n",
    "All saved functions are persisted over notebook restarts.\n",
    "\n",
    "The second cell contains a widget to save, load or export the data state after the last function call.\n",
    "Clicking on \"Next step\" will repeat this process."
   ]
  }
 ],
 "metadata": {
  "kernelspec": {
   "display_name": "Python 3",
   "language": "python",
   "name": "python3"
  },
  "language_info": {
   "codemirror_mode": {
    "name": "ipython",
    "version": 3
   },
   "file_extension": ".py",
   "mimetype": "text/x-python",
   "name": "python",
   "nbconvert_exporter": "python",
   "pygments_lexer": "ipython3",
   "version": "3.7.4"
  },
  "pycharm": {
   "stem_cell": {
    "cell_type": "raw",
    "source": [],
    "metadata": {
     "collapsed": false
    }
   }
  }
 },
 "nbformat": 4,
 "nbformat_minor": 1
}