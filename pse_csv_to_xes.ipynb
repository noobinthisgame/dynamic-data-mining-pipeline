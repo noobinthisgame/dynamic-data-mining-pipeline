{
 "cells": [
  {
   "cell_type": "markdown",
   "metadata": {
    "pycharm": {
     "name": "#%% md\n"
    }
   },
   "source": [
    "---\n",
    "#### WARNING: This notebook only supports transformation of csv to xes files to within the specifications of our project.\n",
    "#### In case you'd like to utilize it to convert different data, you most likely will have to edit the notebook as well as both csv_*.py modules located in src (mostly to change the import files)\n",
    "---\n",
    "Step 1: Declare imports, setup dictionaries to save data into, and open files"
   ]
  },
  {
   "cell_type": "code",
   "execution_count": 1,
   "metadata": {
    "pycharm": {
     "is_executing": false
    }
   },
   "outputs": [
    {
     "name": "stdout",
     "output_type": "stream",
     "text": [
      "File 0 opening succeeded\n",
      "File 1 opening succeeded\n",
      "File 2 opening succeeded\n",
      "File 3 opening succeeded\n",
      "File 4 opening succeeded\n",
      "File 5 opening succeeded\n",
      "File 6 opening succeeded\n",
      "File 7 opening succeeded\n",
      "File brands opening succeeded\n",
      "File channels opening succeeded\n",
      "File devices opening succeeded\n",
      "File sim opening succeeded\n",
      "File tariffs opening succeeded\n"
     ]
    }
   ],
   "source": [
    "import src.csv_filehandlingmodule as fhm\n",
    "from lxml import etree as lxmletree\n",
    "import os\n",
    "\n",
    "fileManager = fhm.FileManager()\n",
    "\n",
    "brands = dict()\n",
    "channels = dict()\n",
    "devices = dict()\n",
    "sims = dict()\n",
    "tariffs = dict()\n",
    "existing_case_ids = set()\n",
    "events = set()\n",
    "main_files = [fileManager.f0, fileManager.f1, fileManager.f2, fileManager.f3, fileManager.f4, fileManager.f5,\n",
    "              fileManager.f6, fileManager.f7]"
   ]
  },
  {
   "cell_type": "markdown",
   "metadata": {
    "pycharm": {
     "name": "#%% md\n"
    }
   },
   "source": [
    "Step 2: Read files and add auxiliary data to events"
   ]
  },
  {
   "cell_type": "code",
   "execution_count": 2,
   "metadata": {
    "pycharm": {
     "is_executing": false,
     "name": "#%%\n"
    }
   },
   "outputs": [
    {
     "name": "stdout",
     "output_type": "stream",
     "text": [
      "226400\n",
      "File no. 0 read\n",
      "227471\n",
      "File no. 1 read\n",
      "227749\n",
      "File no. 2 read\n",
      "227370\n",
      "File no. 3 read\n",
      "227154\n",
      "File no. 4 read\n",
      "227288\n",
      "File no. 5 read\n",
      "226812\n",
      "File no. 6 read\n",
      "228291\n",
      "File no. 7 read\n",
      "Files read successfully\n",
      "Closed all files\n"
     ]
    }
   ],
   "source": [
    "# read all auxiliary data into the proper dictionaries\n",
    "fileManager.read_aux_data(fileManager.fbrands, brands)\n",
    "fileManager.read_aux_data(fileManager.fchannels, channels)\n",
    "fileManager.read_aux_data(fileManager.fdevices, devices)\n",
    "fileManager.read_aux_data(fileManager.fsim, sims)\n",
    "fileManager.read_aux_data(fileManager.ftariffs, tariffs)\n",
    "\n",
    "fcounter = 0\n",
    "# read main files data\n",
    "for file in main_files:\n",
    "    fileManager.read_data(file, events, existing_case_ids, brands, channels, devices, sims, tariffs)\n",
    "    txt = \"File no. {} read\"\n",
    "    print(txt.format(fcounter))\n",
    "    fcounter += 1\n",
    "print(\"Files read successfully\")\n",
    "\n",
    "# close files\n",
    "fileManager.close_all()\n",
    "print(\"Closed all files\")"
   ]
  },
  {
   "cell_type": "markdown",
   "metadata": {
    "pycharm": {
     "name": "#%% md\n"
    }
   },
   "source": [
    "Step 3: Create XML structure as defined per XES"
   ]
  },
  {
   "cell_type": "code",
   "execution_count": 3,
   "metadata": {
    "pycharm": {
     "is_executing": true,
     "name": "#%%\n"
    }
   },
   "outputs": [
    {
     "name": "stdout",
     "output_type": "stream",
     "text": [
      "Creating XML structure\n",
      "1405638\n",
      "XML structure creation complete\n"
     ]
    }
   ],
   "source": [
    "# do xml\n",
    "print(\"Creating XML structure\")\n",
    "# root element (log)\n",
    "root = lxmletree.Element(\"log\", {\"xes.version\": \"2.0\", \"xes.features\": \"\",\n",
    "                           \"xmlns\": \"http://www.xes-standard.org/\"})\n",
    "# string \"creator\"\n",
    "strCreator = lxmletree.SubElement(root, \"string\", {\"key\": \"creator\", \"value\": \"PSE_HDA_Bohling_Ehlers\"})\n",
    "# extension \"concept\"\n",
    "extConcept = lxmletree.SubElement(root, \"extension\", {\"name\": \"Concept\", \"prefix\": \"concept\",\n",
    "                                                \"uri\": \"http://www.xes-standard.org/concept.xesext\"})\n",
    "# extension \"time\"\n",
    "extTime = lxmletree.SubElement(root, \"extension\", {\"name\": \"Time\", \"prefix\": \"time\",\n",
    "                                             \"uri\": \"http://www.xes-standard.org/time.xesext\"})\n",
    "# global event definitions (required fields)\n",
    "globalEvent = lxmletree.SubElement(root, \"global\", {\"scope\": \"event\"})\n",
    "strEventTraceID = lxmletree.SubElement(globalEvent, \"string\", {\"key\": \"concept:instance\", \"value\": \"0\"})\n",
    "strEventName = lxmletree.SubElement(globalEvent, \"string\", {\"key\": \"concept:name\", \"value\": \"\"})\n",
    "dateEventTimestamp = lxmletree.SubElement(globalEvent, \"date\", {\"key\": \"time:timestamp\",\n",
    "                                                          \"value\": \"yyyy-mm-dd HH:MM:SS\"})\n",
    "# classifier (composed key to identify events)\n",
    "classifierEvent = lxmletree.SubElement(root, \"classifier\", {\"name\": \"activity\", \"keys\": \"concept:instance concept:name\"})\n",
    "# trace element with all events, since XES requires a trace to put events in\n",
    "# but we dont group by trace IDs in this program\n",
    "trace = lxmletree.SubElement(root, \"trace\")\n",
    "# now create all events\n",
    "eventcounter = 0\n",
    "for event in events:\n",
    "    eventcounter += 1\n",
    "    event.xmlify(trace)\n",
    "print(eventcounter)\n",
    "print(\"XML structure creation complete\")"
   ]
  },
  {
   "cell_type": "markdown",
   "metadata": {
    "pycharm": {
     "name": "#%% md\n"
    }
   },
   "source": [
    "Step 4: Create output file, write data into it, and close it\n",
    "Be aware, this file is proportionally larger than the csv file by a factor of roughly 15!"
   ]
  },
  {
   "cell_type": "code",
   "execution_count": 4,
   "metadata": {
    "pycharm": {
     "is_executing": true,
     "name": "#%%\n"
    }
   },
   "outputs": [
    {
     "name": "stdout",
     "output_type": "stream",
     "text": [
      "Removing old output file if it exists and creating new one\n",
      "Writing to output file\n",
      "Closing output file\n",
      "Output file closed\n"
     ]
    }
   ],
   "source": [
    "print(\"Removing old output file if it exists and creating new one\")\n",
    "if os.path.isfile(\"data/xes/events.xes\"):\n",
    "    os.remove(\"data/xes/events.xes\")\n",
    "newfile = open(\"data/xes/events.xes\", \"wb\")\n",
    "print(\"Writing to output file\")\n",
    "newfile.write(lxmletree.tostring(root, pretty_print=True, xml_declaration=True, encoding='UTF-8'))\n",
    "print(\"Closing output file\")\n",
    "newfile.close()\n",
    "print(\"Output file closed\")"
   ]
  },
  {
   "cell_type": "markdown",
   "metadata": {
    "pycharm": {
     "name": "#%% md\n"
    }
   },
   "source": [
    "The finished file should be in the output directory /data/xes\n",
    "Please be aware that NO data manipulation whatsoever takes place in this notebook.\n",
    "The events are NOT grouped by their actual trace, but are put into a single \"default\" trace node.\n",
    "\n"
   ]
  }
 ],
 "metadata": {
  "kernelspec": {
   "display_name": "Python 3",
   "language": "python",
   "name": "python3"
  },
  "language_info": {
   "codemirror_mode": {
    "name": "ipython",
    "version": 3
   },
   "file_extension": ".py",
   "mimetype": "text/x-python",
   "name": "python",
   "nbconvert_exporter": "python",
   "pygments_lexer": "ipython3",
   "version": "3.7.4"
  },
  "pycharm": {
   "stem_cell": {
    "cell_type": "raw",
    "metadata": {
     "collapsed": false
    },
    "source": []
   }
  }
 },
 "nbformat": 4,
 "nbformat_minor": 1
}
